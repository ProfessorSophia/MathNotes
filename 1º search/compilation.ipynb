{
 "cells": [
  {
   "cell_type": "markdown",
   "id": "ef8b6eab-9805-4f91-9b08-24071d3174ab",
   "metadata": {},
   "source": [
    "# 1ºSearch\n",
    "\n",
    "## What is a Vector Space over Complex Numbers?\n",
    "\n",
    "See:\n",
    "\n",
    "https://web.math.utk.edu/~mengesha/teaching/Math2025/Lecture11.pdf\n",
    "\n",
    "### Inner product over Complex Numbers?\n",
    "\n",
    "A structure $\\mathcal{V} = (V,+,\\cdot, <, >)$ is an **inner product space** if \n",
    "\n",
    "1. $(V, +, \\dot)$ is a vector space (over the field of complex numbers);\n",
    "2. $<,>$ is a function that associates a complex number with every pair of vectors in $V$ subject to the following rules: for all $x,y,z \\in V$ and $\\lambda \\in \\mathbb{C}$,\n",
    "    1. $<x,y> = <y,x>^*$ ($^*$ is complex conjugate);\n",
    "    2. $<x + y, z> = <x,z> + <y,z>$ and $<x, y+z> = <x,y> + <x,z>$;\n",
    "    3. $<\\lambda x, y> = \\lambda<x,y>$ (we follow the usual practice of writing $\\lambda x$ for $\\lambda \\dot x$;\n",
    "    4. $<x,x>$ is a nonnegative real number, and $<x,x> = 0$ only if $x$ is the zero vector in $V$.\n",
    "\n",
    "We call $<x,y>$ the **inner product** of $x$ and $y$.\n",
    "\n",
    "\n",
    "## Sequences and convergence:\n",
    "\n",
    "### What is a Cauchy Sequence?\n",
    "\n",
    "### What is a converges in norm?\n",
    "\n",
    "## What is a inner product space?\n",
    "\n",
    "An inner product space $V$ is **complete** if and only if every Cauchy sequence in $V$ converges in norm to some vector in $V$.\n",
    "\n",
    "## What is Hilbert Space?\n",
    "\n",
    "Prerequisites: \n",
    "- What is a Vector Space over Complex Numbers?\n",
    "- What is a inner product space?\n",
    "\n",
    "A **Hilbert space** is a complete inner product space. \n",
    "\n",
    "(1º search/papers/David W. Cohen %. An introduction to Hilbert space and quantum logic-Springer %$ 1989.djvu)"
   ]
  },
  {
   "cell_type": "code",
   "execution_count": null,
   "id": "370eb7f2-563b-49fe-b971-0ee49614231e",
   "metadata": {},
   "outputs": [],
   "source": []
  }
 ],
 "metadata": {
  "kernelspec": {
   "display_name": "Python 3 (ipykernel)",
   "language": "python",
   "name": "python3"
  },
  "language_info": {
   "codemirror_mode": {
    "name": "ipython",
    "version": 3
   },
   "file_extension": ".py",
   "mimetype": "text/x-python",
   "name": "python",
   "nbconvert_exporter": "python",
   "pygments_lexer": "ipython3",
   "version": "3.12.6"
  }
 },
 "nbformat": 4,
 "nbformat_minor": 5
}
